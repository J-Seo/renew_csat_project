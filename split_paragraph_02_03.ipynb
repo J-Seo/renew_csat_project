{
 "cells": [
  {
   "cell_type": "code",
   "execution_count": 6,
   "metadata": {},
   "outputs": [],
   "source": [
    "# 패키지 불러오기\n",
    "\n",
    "import pandas as pd\n",
    "import numpy as np\n",
    "import os\n",
    "\n",
    "import re"
   ]
  },
  {
   "cell_type": "code",
   "execution_count": 7,
   "metadata": {},
   "outputs": [
    {
     "data": {
      "text/plain": [
       "['서재형 이력서.pdf',\n",
       " '2020_CSAT_donghwan_bk2.xlsx',\n",
       " '2020_CSAT_ganghee_topic.xlsx',\n",
       " '.DS_Store',\n",
       " '서재형_성적증명서.pdf',\n",
       " '2020_CSAT_dongwhan_bk.xlsx',\n",
       " '2020_CSAT_Voca.ipynb',\n",
       " '2020_CSAT_ganghee_gravoca.xlsx',\n",
       " 'csat_raw_01_27.xlsx',\n",
       " '2020_CSAT_jaehyeong.xlsx',\n",
       " '~$재형 이력서.docx',\n",
       " '서재형 이력서.docx',\n",
       " '2020_CSAT_ganghee_emotion.xlsx',\n",
       " '.ipynb_checkpoints',\n",
       " 'csat_raw_2_3.xlsx',\n",
       " 'split_paragraph_01_27.ipynb']"
      ]
     },
     "execution_count": 7,
     "metadata": {},
     "output_type": "execute_result"
    }
   ],
   "source": [
    "os.listdir()"
   ]
  },
  {
   "cell_type": "code",
   "execution_count": 8,
   "metadata": {},
   "outputs": [],
   "source": [
    "table_data = pd.read_excel('csat_raw_2_3.xlsx', decoding = 'utf-8')"
   ]
  },
  {
   "cell_type": "code",
   "execution_count": 42,
   "metadata": {},
   "outputs": [
    {
     "data": {
      "text/html": [
       "<div>\n",
       "<style scoped>\n",
       "    .dataframe tbody tr th:only-of-type {\n",
       "        vertical-align: middle;\n",
       "    }\n",
       "\n",
       "    .dataframe tbody tr th {\n",
       "        vertical-align: top;\n",
       "    }\n",
       "\n",
       "    .dataframe thead th {\n",
       "        text-align: right;\n",
       "    }\n",
       "</style>\n",
       "<table border=\"1\" class=\"dataframe\">\n",
       "  <thead>\n",
       "    <tr style=\"text-align: right;\">\n",
       "      <th></th>\n",
       "      <th>title</th>\n",
       "      <th>contents</th>\n",
       "      <th>number</th>\n",
       "    </tr>\n",
       "  </thead>\n",
       "  <tbody>\n",
       "    <tr>\n",
       "      <td>0</td>\n",
       "      <td>The repetitive social sharing of the bad news ...</td>\n",
       "      <td>Finkenauer and Rimé investigated the memory of...</td>\n",
       "      <td>#2019 수능 31번</td>\n",
       "    </tr>\n",
       "    <tr>\n",
       "      <td>1</td>\n",
       "      <td>The social psychologist Serge Moscovici claims...</td>\n",
       "      <td>Minorities tend not to have much power or stat...</td>\n",
       "      <td>#2019 수능 32번</td>\n",
       "    </tr>\n",
       "    <tr>\n",
       "      <td>2</td>\n",
       "      <td>Thus heritage is as much about forgetting as r...</td>\n",
       "      <td>Heritage is concerned with the ways in which v...</td>\n",
       "      <td>#2019 수능 33번</td>\n",
       "    </tr>\n",
       "    <tr>\n",
       "      <td>3</td>\n",
       "      <td>Our brains did not have\\nenough time to evolve...</td>\n",
       "      <td>The human species is unique in its ability to ...</td>\n",
       "      <td>#2019 수능 34번</td>\n",
       "    </tr>\n",
       "    <tr>\n",
       "      <td>4</td>\n",
       "      <td>Due to the fact that people tend to favor more...</td>\n",
       "      <td>Biological organisms, including human societie...</td>\n",
       "      <td>#2019 수능 40번</td>\n",
       "    </tr>\n",
       "    <tr>\n",
       "      <td>...</td>\n",
       "      <td>...</td>\n",
       "      <td>...</td>\n",
       "      <td>...</td>\n",
       "    </tr>\n",
       "    <tr>\n",
       "      <td>808</td>\n",
       "      <td>Many Halloween come from the ancient practices...</td>\n",
       "      <td>The Celtic New Year was November 1. The night ...</td>\n",
       "      <td>2004년 6월 38번</td>\n",
       "    </tr>\n",
       "    <tr>\n",
       "      <td>809</td>\n",
       "      <td>effects of a brand name on car sales.</td>\n",
       "      <td>In Europe, two cars roll off the same assembly...</td>\n",
       "      <td>2004년 6월 43번</td>\n",
       "    </tr>\n",
       "    <tr>\n",
       "      <td>810</td>\n",
       "      <td>Expanding Women's Entry into the Medical Indus...</td>\n",
       "      <td>At the beginning of this decade, one-third of ...</td>\n",
       "      <td>2004년 6월 44번</td>\n",
       "    </tr>\n",
       "    <tr>\n",
       "      <td>811</td>\n",
       "      <td>Respect and be considerate to others.</td>\n",
       "      <td>The more heartless our community becomes, the ...</td>\n",
       "      <td>2004년 6월 45번</td>\n",
       "    </tr>\n",
       "    <tr>\n",
       "      <td>812</td>\n",
       "      <td>You must judge yourself.</td>\n",
       "      <td>Most people have great difficulties making the...</td>\n",
       "      <td>2004년 6월 46번</td>\n",
       "    </tr>\n",
       "  </tbody>\n",
       "</table>\n",
       "<p>813 rows × 3 columns</p>\n",
       "</div>"
      ],
      "text/plain": [
       "                                                 title  \\\n",
       "0    The repetitive social sharing of the bad news ...   \n",
       "1    The social psychologist Serge Moscovici claims...   \n",
       "2    Thus heritage is as much about forgetting as r...   \n",
       "3    Our brains did not have\\nenough time to evolve...   \n",
       "4    Due to the fact that people tend to favor more...   \n",
       "..                                                 ...   \n",
       "808  Many Halloween come from the ancient practices...   \n",
       "809              effects of a brand name on car sales.   \n",
       "810  Expanding Women's Entry into the Medical Indus...   \n",
       "811              Respect and be considerate to others.   \n",
       "812                           You must judge yourself.   \n",
       "\n",
       "                                              contents        number  \n",
       "0    Finkenauer and Rimé investigated the memory of...  #2019 수능 31번  \n",
       "1    Minorities tend not to have much power or stat...  #2019 수능 32번  \n",
       "2    Heritage is concerned with the ways in which v...  #2019 수능 33번  \n",
       "3    The human species is unique in its ability to ...  #2019 수능 34번  \n",
       "4    Biological organisms, including human societie...  #2019 수능 40번  \n",
       "..                                                 ...           ...  \n",
       "808  The Celtic New Year was November 1. The night ...  2004년 6월 38번  \n",
       "809  In Europe, two cars roll off the same assembly...  2004년 6월 43번  \n",
       "810  At the beginning of this decade, one-third of ...  2004년 6월 44번  \n",
       "811  The more heartless our community becomes, the ...  2004년 6월 45번  \n",
       "812  Most people have great difficulties making the...  2004년 6월 46번  \n",
       "\n",
       "[813 rows x 3 columns]"
      ]
     },
     "execution_count": 42,
     "metadata": {},
     "output_type": "execute_result"
    }
   ],
   "source": [
    "table_data"
   ]
  },
  {
   "cell_type": "code",
   "execution_count": 43,
   "metadata": {},
   "outputs": [],
   "source": [
    "paragraph_only = table_data['contents']"
   ]
  },
  {
   "cell_type": "code",
   "execution_count": 44,
   "metadata": {},
   "outputs": [
    {
     "data": {
      "text/plain": [
       "['Most people have great difficulties making their own decisions when they are not sure what to do',\n",
       " 'They often let close friends and relatives influence them through opinions',\n",
       " 'They even allow gossiping neighbors to express their thoughts for them',\n",
       " 'If you are influenced by the opinions of others whenever you reach decisions, you will not succeed in anything you do',\n",
       " 'Remember you have a brain and mind of your own',\n",
       " 'You should use it and reach your own decisions']"
      ]
     },
     "execution_count": 44,
     "metadata": {},
     "output_type": "execute_result"
    }
   ],
   "source": [
    "split_para"
   ]
  },
  {
   "cell_type": "code",
   "execution_count": 45,
   "metadata": {},
   "outputs": [],
   "source": [
    "list_dir = []\n",
    "\n",
    "for i in range(len(paragraph_only)):\n",
    "    one_para = paragraph_only[i]\n",
    "    one_para = re.sub('\\n', ' ', one_para)\n",
    "    split_para = one_para.split('. ')\n",
    "    split_para[-1] = split_para[-1] + ' {}번 문단'.format(i) \n",
    "    for idx, para in enumerate(split_para):\n",
    "        \n",
    "        if len(para) < 25:\n",
    "            try:\n",
    "                tmp = para\n",
    "                del split_para[idx]\n",
    "                split_para[idx] = tmp + '. ' + split_para[idx]\n",
    "            except:\n",
    "                pass\n",
    "    list_dir.append(split_para)\n",
    "    "
   ]
  },
  {
   "cell_type": "code",
   "execution_count": 46,
   "metadata": {},
   "outputs": [],
   "source": [
    "sent_dir = []\n",
    "\n",
    "for list_para in list_dir:\n",
    "    \n",
    "    for sentence in list_para:\n",
    "        \n",
    "        sent_dir.append(sentence)"
   ]
  },
  {
   "cell_type": "code",
   "execution_count": 47,
   "metadata": {},
   "outputs": [
    {
     "data": {
      "text/html": [
       "<div>\n",
       "<style scoped>\n",
       "    .dataframe tbody tr th:only-of-type {\n",
       "        vertical-align: middle;\n",
       "    }\n",
       "\n",
       "    .dataframe tbody tr th {\n",
       "        vertical-align: top;\n",
       "    }\n",
       "\n",
       "    .dataframe thead th {\n",
       "        text-align: right;\n",
       "    }\n",
       "</style>\n",
       "<table border=\"1\" class=\"dataframe\">\n",
       "  <thead>\n",
       "    <tr style=\"text-align: right;\">\n",
       "      <th></th>\n",
       "      <th>sentence</th>\n",
       "    </tr>\n",
       "  </thead>\n",
       "  <tbody>\n",
       "    <tr>\n",
       "      <td>0</td>\n",
       "      <td>Finkenauer and Rimé investigated the memory of...</td>\n",
       "    </tr>\n",
       "  </tbody>\n",
       "</table>\n",
       "</div>"
      ],
      "text/plain": [
       "                                            sentence\n",
       "0  Finkenauer and Rimé investigated the memory of..."
      ]
     },
     "execution_count": 47,
     "metadata": {},
     "output_type": "execute_result"
    }
   ],
   "source": [
    "sent_list = [{'sentence': sent_dir[0]}]\n",
    "\n",
    "df = pd.DataFrame(sent_list)\n",
    "\n",
    "df"
   ]
  },
  {
   "cell_type": "code",
   "execution_count": 48,
   "metadata": {},
   "outputs": [],
   "source": [
    "for i in range(len(sent_dir)-1):\n",
    "    df.loc[i+1] = [sent_dir[i+1]]\n",
    "    "
   ]
  },
  {
   "cell_type": "code",
   "execution_count": 49,
   "metadata": {},
   "outputs": [
    {
     "data": {
      "text/html": [
       "<div>\n",
       "<style scoped>\n",
       "    .dataframe tbody tr th:only-of-type {\n",
       "        vertical-align: middle;\n",
       "    }\n",
       "\n",
       "    .dataframe tbody tr th {\n",
       "        vertical-align: top;\n",
       "    }\n",
       "\n",
       "    .dataframe thead th {\n",
       "        text-align: right;\n",
       "    }\n",
       "</style>\n",
       "<table border=\"1\" class=\"dataframe\">\n",
       "  <thead>\n",
       "    <tr style=\"text-align: right;\">\n",
       "      <th></th>\n",
       "      <th>sentence</th>\n",
       "    </tr>\n",
       "  </thead>\n",
       "  <tbody>\n",
       "    <tr>\n",
       "      <td>0</td>\n",
       "      <td>Finkenauer and Rimé investigated the memory of...</td>\n",
       "    </tr>\n",
       "    <tr>\n",
       "      <td>1</td>\n",
       "      <td>The data revealed that the news of the king’s ...</td>\n",
       "    </tr>\n",
       "    <tr>\n",
       "      <td>2</td>\n",
       "      <td>By talking about the event, people gradually c...</td>\n",
       "    </tr>\n",
       "    <tr>\n",
       "      <td>3</td>\n",
       "      <td>At the same time, they consolidated their own ...</td>\n",
       "    </tr>\n",
       "    <tr>\n",
       "      <td>4</td>\n",
       "      <td>Social sharing may in this way help to counter...</td>\n",
       "    </tr>\n",
       "    <tr>\n",
       "      <td>...</td>\n",
       "      <td>...</td>\n",
       "    </tr>\n",
       "    <tr>\n",
       "      <td>5315</td>\n",
       "      <td>They often let close friends and relatives inf...</td>\n",
       "    </tr>\n",
       "    <tr>\n",
       "      <td>5316</td>\n",
       "      <td>They even allow gossiping neighbors to express...</td>\n",
       "    </tr>\n",
       "    <tr>\n",
       "      <td>5317</td>\n",
       "      <td>If you are influenced by the opinions of other...</td>\n",
       "    </tr>\n",
       "    <tr>\n",
       "      <td>5318</td>\n",
       "      <td>Remember you have a brain and mind of your own</td>\n",
       "    </tr>\n",
       "    <tr>\n",
       "      <td>5319</td>\n",
       "      <td>You should use it and reach your own decisions</td>\n",
       "    </tr>\n",
       "  </tbody>\n",
       "</table>\n",
       "<p>5320 rows × 1 columns</p>\n",
       "</div>"
      ],
      "text/plain": [
       "                                               sentence\n",
       "0     Finkenauer and Rimé investigated the memory of...\n",
       "1     The data revealed that the news of the king’s ...\n",
       "2     By talking about the event, people gradually c...\n",
       "3     At the same time, they consolidated their own ...\n",
       "4     Social sharing may in this way help to counter...\n",
       "...                                                 ...\n",
       "5315  They often let close friends and relatives inf...\n",
       "5316  They even allow gossiping neighbors to express...\n",
       "5317  If you are influenced by the opinions of other...\n",
       "5318     Remember you have a brain and mind of your own\n",
       "5319     You should use it and reach your own decisions\n",
       "\n",
       "[5320 rows x 1 columns]"
      ]
     },
     "execution_count": 49,
     "metadata": {},
     "output_type": "execute_result"
    }
   ],
   "source": [
    "df"
   ]
  },
  {
   "cell_type": "code",
   "execution_count": 50,
   "metadata": {},
   "outputs": [],
   "source": [
    "df.to_excel('cast_sentences_5006.xlsx', header = True, index = True)"
   ]
  },
  {
   "cell_type": "code",
   "execution_count": null,
   "metadata": {},
   "outputs": [],
   "source": []
  }
 ],
 "metadata": {
  "kernelspec": {
   "display_name": "Python 3",
   "language": "python",
   "name": "python3"
  },
  "language_info": {
   "codemirror_mode": {
    "name": "ipython",
    "version": 3
   },
   "file_extension": ".py",
   "mimetype": "text/x-python",
   "name": "python",
   "nbconvert_exporter": "python",
   "pygments_lexer": "ipython3",
   "version": "3.7.3"
  }
 },
 "nbformat": 4,
 "nbformat_minor": 2
}
