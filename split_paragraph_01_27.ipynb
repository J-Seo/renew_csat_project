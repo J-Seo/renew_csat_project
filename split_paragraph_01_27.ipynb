{
 "cells": [
  {
   "cell_type": "code",
   "execution_count": 8,
   "metadata": {},
   "outputs": [],
   "source": [
    "# 패키지 불러오기\n",
    "\n",
    "import pandas as pd\n",
    "import numpy as np\n",
    "import os\n",
    "\n",
    "import re"
   ]
  },
  {
   "cell_type": "code",
   "execution_count": 2,
   "metadata": {},
   "outputs": [
    {
     "data": {
      "text/plain": [
       "['csat_raw_01_27.xlsx', '.ipynb_checkpoints', 'split_paragraph_01_27.ipynb']"
      ]
     },
     "execution_count": 2,
     "metadata": {},
     "output_type": "execute_result"
    }
   ],
   "source": [
    "os.listdir()"
   ]
  },
  {
   "cell_type": "code",
   "execution_count": 3,
   "metadata": {},
   "outputs": [],
   "source": [
    "table_data = pd.read_excel('csat_raw_01_27.xlsx', decoding = 'utf-8')"
   ]
  },
  {
   "cell_type": "code",
   "execution_count": 4,
   "metadata": {},
   "outputs": [
    {
     "data": {
      "text/html": [
       "<div>\n",
       "<style scoped>\n",
       "    .dataframe tbody tr th:only-of-type {\n",
       "        vertical-align: middle;\n",
       "    }\n",
       "\n",
       "    .dataframe tbody tr th {\n",
       "        vertical-align: top;\n",
       "    }\n",
       "\n",
       "    .dataframe thead th {\n",
       "        text-align: right;\n",
       "    }\n",
       "</style>\n",
       "<table border=\"1\" class=\"dataframe\">\n",
       "  <thead>\n",
       "    <tr style=\"text-align: right;\">\n",
       "      <th></th>\n",
       "      <th>answer</th>\n",
       "      <th>contents</th>\n",
       "      <th>number</th>\n",
       "    </tr>\n",
       "  </thead>\n",
       "  <tbody>\n",
       "    <tr>\n",
       "      <td>0</td>\n",
       "      <td>Asking if the recipe can be changed.</td>\n",
       "      <td>Dear Mr. Reese, A few days ago, I submitted my...</td>\n",
       "      <td>2019년 수능 18번</td>\n",
       "    </tr>\n",
       "    <tr>\n",
       "      <td>1</td>\n",
       "      <td>Be wary of abstracting and uniformly conceptua...</td>\n",
       "      <td>War is inconceivable without some image, or co...</td>\n",
       "      <td>2019년 수능 20번</td>\n",
       "    </tr>\n",
       "    <tr>\n",
       "      <td>2</td>\n",
       "      <td>Looking beyond what is known towards what is l...</td>\n",
       "      <td>Although not the explicit goal, the best scien...</td>\n",
       "      <td>2019년 수능 21번</td>\n",
       "    </tr>\n",
       "    <tr>\n",
       "      <td>3</td>\n",
       "      <td>In an information-based society, information h...</td>\n",
       "      <td>With the industrial society evolving into an i...</td>\n",
       "      <td>2019년 수능 22번</td>\n",
       "    </tr>\n",
       "    <tr>\n",
       "      <td>4</td>\n",
       "      <td>Coping with climate change by reforming aid an...</td>\n",
       "      <td>We argue that the ethical principles of justic...</td>\n",
       "      <td>2019년 수능 23번</td>\n",
       "    </tr>\n",
       "    <tr>\n",
       "      <td>...</td>\n",
       "      <td>...</td>\n",
       "      <td>...</td>\n",
       "      <td>...</td>\n",
       "    </tr>\n",
       "    <tr>\n",
       "      <td>197</td>\n",
       "      <td>Writing moves words from the sound world to th...</td>\n",
       "      <td>With the invention of typography, spacing and ...</td>\n",
       "      <td>#2016 7월 고3 32번</td>\n",
       "    </tr>\n",
       "    <tr>\n",
       "      <td>198</td>\n",
       "      <td>the worst moods are reported when one is alone...</td>\n",
       "      <td>Adolescents, adults, and old people all report...</td>\n",
       "      <td>#2016 7월 고3 33번</td>\n",
       "    </tr>\n",
       "    <tr>\n",
       "      <td>199</td>\n",
       "      <td>As with the swimmers’ bodies, beauty is a fact...</td>\n",
       "      <td>As essayist Nassim Taleb resolved to do someth...</td>\n",
       "      <td>#2016 7월 고3 34번</td>\n",
       "    </tr>\n",
       "    <tr>\n",
       "      <td>200</td>\n",
       "      <td>Confidence in one’s memories of personal circu...</td>\n",
       "      <td>National tragedies create what psychologists c...</td>\n",
       "      <td>#2016 7월 고3 40번</td>\n",
       "    </tr>\n",
       "    <tr>\n",
       "      <td>201</td>\n",
       "      <td>In the medium itself, there is nothing that ca...</td>\n",
       "      <td>Microsoft senior research fellow Malcolm Slane...</td>\n",
       "      <td>#2016 7월 고3 42번</td>\n",
       "    </tr>\n",
       "  </tbody>\n",
       "</table>\n",
       "<p>202 rows × 3 columns</p>\n",
       "</div>"
      ],
      "text/plain": [
       "                                                answer  \\\n",
       "0                 Asking if the recipe can be changed.   \n",
       "1    Be wary of abstracting and uniformly conceptua...   \n",
       "2    Looking beyond what is known towards what is l...   \n",
       "3    In an information-based society, information h...   \n",
       "4    Coping with climate change by reforming aid an...   \n",
       "..                                                 ...   \n",
       "197  Writing moves words from the sound world to th...   \n",
       "198  the worst moods are reported when one is alone...   \n",
       "199  As with the swimmers’ bodies, beauty is a fact...   \n",
       "200  Confidence in one’s memories of personal circu...   \n",
       "201  In the medium itself, there is nothing that ca...   \n",
       "\n",
       "                                              contents           number  \n",
       "0    Dear Mr. Reese, A few days ago, I submitted my...     2019년 수능 18번  \n",
       "1    War is inconceivable without some image, or co...     2019년 수능 20번  \n",
       "2    Although not the explicit goal, the best scien...     2019년 수능 21번  \n",
       "3    With the industrial society evolving into an i...     2019년 수능 22번  \n",
       "4    We argue that the ethical principles of justic...     2019년 수능 23번  \n",
       "..                                                 ...              ...  \n",
       "197  With the invention of typography, spacing and ...  #2016 7월 고3 32번  \n",
       "198  Adolescents, adults, and old people all report...  #2016 7월 고3 33번  \n",
       "199  As essayist Nassim Taleb resolved to do someth...  #2016 7월 고3 34번  \n",
       "200  National tragedies create what psychologists c...  #2016 7월 고3 40번  \n",
       "201  Microsoft senior research fellow Malcolm Slane...  #2016 7월 고3 42번  \n",
       "\n",
       "[202 rows x 3 columns]"
      ]
     },
     "execution_count": 4,
     "metadata": {},
     "output_type": "execute_result"
    }
   ],
   "source": [
    "table_data"
   ]
  },
  {
   "cell_type": "code",
   "execution_count": 21,
   "metadata": {},
   "outputs": [],
   "source": [
    "paragraph_only = table_data['contents']"
   ]
  },
  {
   "cell_type": "code",
   "execution_count": 26,
   "metadata": {},
   "outputs": [],
   "source": [
    "list_dir = []\n",
    "\n",
    "for i in range(len(paragraph_only)):\n",
    "    one_para = paragraph_only[i] \n",
    "    split_para = one_para.split('. ')\n",
    "    split_para[-1] = split_para[-1] + ' {}번 문단'.format(i) \n",
    "    for idx, para in enumerate(split_para):\n",
    "        \n",
    "        if len(para) < 10: \n",
    "            tmp = para\n",
    "            del split_para[idx]\n",
    "            split_para[idx] = tmp + '. ' + split_para[idx]\n",
    "            \n",
    "    list_dir.append(split_para)\n",
    "    "
   ]
  },
  {
   "cell_type": "code",
   "execution_count": 28,
   "metadata": {},
   "outputs": [],
   "source": [
    "sent_dir = []\n",
    "\n",
    "for list_para in list_dir:\n",
    "    \n",
    "    for sentence in list_para:\n",
    "        \n",
    "        sent_dir.append(sentence)"
   ]
  },
  {
   "cell_type": "code",
   "execution_count": 30,
   "metadata": {},
   "outputs": [
    {
     "data": {
      "text/html": [
       "<div>\n",
       "<style scoped>\n",
       "    .dataframe tbody tr th:only-of-type {\n",
       "        vertical-align: middle;\n",
       "    }\n",
       "\n",
       "    .dataframe tbody tr th {\n",
       "        vertical-align: top;\n",
       "    }\n",
       "\n",
       "    .dataframe thead th {\n",
       "        text-align: right;\n",
       "    }\n",
       "</style>\n",
       "<table border=\"1\" class=\"dataframe\">\n",
       "  <thead>\n",
       "    <tr style=\"text-align: right;\">\n",
       "      <th></th>\n",
       "      <th>sentence</th>\n",
       "    </tr>\n",
       "  </thead>\n",
       "  <tbody>\n",
       "    <tr>\n",
       "      <td>0</td>\n",
       "      <td>Dear Mr. Reese, A few days ago, I submitted my...</td>\n",
       "    </tr>\n",
       "  </tbody>\n",
       "</table>\n",
       "</div>"
      ],
      "text/plain": [
       "                                            sentence\n",
       "0  Dear Mr. Reese, A few days ago, I submitted my..."
      ]
     },
     "execution_count": 30,
     "metadata": {},
     "output_type": "execute_result"
    }
   ],
   "source": [
    "sent_list = [{'sentence': sent_dir[0]}]\n",
    "\n",
    "df = pd.DataFrame(sent_list)\n",
    "\n",
    "df"
   ]
  },
  {
   "cell_type": "code",
   "execution_count": 31,
   "metadata": {},
   "outputs": [],
   "source": [
    "for i in range(len(sent_dir)-1):\n",
    "    df.loc[i+1] = [sent_dir[i+1]]\n",
    "    "
   ]
  },
  {
   "cell_type": "code",
   "execution_count": 32,
   "metadata": {},
   "outputs": [
    {
     "data": {
      "text/html": [
       "<div>\n",
       "<style scoped>\n",
       "    .dataframe tbody tr th:only-of-type {\n",
       "        vertical-align: middle;\n",
       "    }\n",
       "\n",
       "    .dataframe tbody tr th {\n",
       "        vertical-align: top;\n",
       "    }\n",
       "\n",
       "    .dataframe thead th {\n",
       "        text-align: right;\n",
       "    }\n",
       "</style>\n",
       "<table border=\"1\" class=\"dataframe\">\n",
       "  <thead>\n",
       "    <tr style=\"text-align: right;\">\n",
       "      <th></th>\n",
       "      <th>sentence</th>\n",
       "    </tr>\n",
       "  </thead>\n",
       "  <tbody>\n",
       "    <tr>\n",
       "      <td>0</td>\n",
       "      <td>Dear Mr. Reese, A few days ago, I submitted my...</td>\n",
       "    </tr>\n",
       "    <tr>\n",
       "      <td>1</td>\n",
       "      <td>However, I would like to change my recipe if i...</td>\n",
       "    </tr>\n",
       "    <tr>\n",
       "      <td>2</td>\n",
       "      <td>I have checked the website again, but I could ...</td>\n",
       "    </tr>\n",
       "    <tr>\n",
       "      <td>3</td>\n",
       "      <td>I couldn’t see any information about changing ...</td>\n",
       "    </tr>\n",
       "    <tr>\n",
       "      <td>4</td>\n",
       "      <td>I have just created a great new recipe, and I ...</td>\n",
       "    </tr>\n",
       "    <tr>\n",
       "      <td>...</td>\n",
       "      <td>...</td>\n",
       "    </tr>\n",
       "    <tr>\n",
       "      <td>1344</td>\n",
       "      <td>Physical objects tend to look different from o...</td>\n",
       "    </tr>\n",
       "    <tr>\n",
       "      <td>1345</td>\n",
       "      <td>All bits are created equal</td>\n",
       "    </tr>\n",
       "    <tr>\n",
       "      <td>1346</td>\n",
       "      <td>The same 0s and 1s on your computer that rende...</td>\n",
       "    </tr>\n",
       "    <tr>\n",
       "      <td>1347</td>\n",
       "      <td>So much so that if you looked at the digital r...</td>\n",
       "    </tr>\n",
       "    <tr>\n",
       "      <td>1348</td>\n",
       "      <td>Information has thus become separated from mea...</td>\n",
       "    </tr>\n",
       "  </tbody>\n",
       "</table>\n",
       "<p>1349 rows × 1 columns</p>\n",
       "</div>"
      ],
      "text/plain": [
       "                                               sentence\n",
       "0     Dear Mr. Reese, A few days ago, I submitted my...\n",
       "1     However, I would like to change my recipe if i...\n",
       "2     I have checked the website again, but I could ...\n",
       "3     I couldn’t see any information about changing ...\n",
       "4     I have just created a great new recipe, and I ...\n",
       "...                                                 ...\n",
       "1344  Physical objects tend to look different from o...\n",
       "1345                         All bits are created equal\n",
       "1346  The same 0s and 1s on your computer that rende...\n",
       "1347  So much so that if you looked at the digital r...\n",
       "1348  Information has thus become separated from mea...\n",
       "\n",
       "[1349 rows x 1 columns]"
      ]
     },
     "execution_count": 32,
     "metadata": {},
     "output_type": "execute_result"
    }
   ],
   "source": [
    "df"
   ]
  },
  {
   "cell_type": "code",
   "execution_count": null,
   "metadata": {},
   "outputs": [],
   "source": []
  }
 ],
 "metadata": {
  "kernelspec": {
   "display_name": "Python 3",
   "language": "python",
   "name": "python3"
  },
  "language_info": {
   "codemirror_mode": {
    "name": "ipython",
    "version": 3
   },
   "file_extension": ".py",
   "mimetype": "text/x-python",
   "name": "python",
   "nbconvert_exporter": "python",
   "pygments_lexer": "ipython3",
   "version": "3.7.3"
  }
 },
 "nbformat": 4,
 "nbformat_minor": 2
}
